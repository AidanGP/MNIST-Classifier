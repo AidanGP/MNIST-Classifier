{
 "cells": [
  {
   "cell_type": "code",
   "execution_count": 2,
   "metadata": {},
   "outputs": [],
   "source": [
    "import torch\n",
    "from tqdm import trange, tqdm\n",
    "import torch.nn as nn\n",
    "import torch.nn.functional as F\n",
    "import numpy as np"
   ]
  },
  {
   "cell_type": "code",
   "execution_count": 3,
   "metadata": {},
   "outputs": [],
   "source": [
    "class Net(nn.Module):\n",
    "    def __init__(self):\n",
    "        super().__init__()\n",
    "        self.fc1 = nn.Linear(784, 2500)\n",
    "        self.fc2 = nn.Linear(2500, 2000)\n",
    "        self.fc3 = nn.Linear(2000, 1500)\n",
    "        self.fc4 = nn.Linear(1500, 1000)\n",
    "        self.fc5 = nn.Linear(1000, 500)\n",
    "        self.fc6 = nn.Linear(500, 10)\n",
    "\n",
    "    def forward(self, x):\n",
    "        x = F.relu(self.fc1(x))\n",
    "        x = F.relu(self.fc2(x))\n",
    "        x = F.relu(self.fc3(x))\n",
    "        x = F.relu(self.fc4(x))\n",
    "        x = F.relu(self.fc5(x))\n",
    "        x = self.fc6(x)\n",
    "        return F.log_softmax(x, dim=1)\n",
    "        "
   ]
  },
  {
   "cell_type": "code",
   "execution_count": 4,
   "metadata": {},
   "outputs": [
    {
     "data": {
      "text/plain": [
       "Net(\n",
       "  (fc1): Linear(in_features=784, out_features=2500, bias=True)\n",
       "  (fc2): Linear(in_features=2500, out_features=2000, bias=True)\n",
       "  (fc3): Linear(in_features=2000, out_features=1500, bias=True)\n",
       "  (fc4): Linear(in_features=1500, out_features=1000, bias=True)\n",
       "  (fc5): Linear(in_features=1000, out_features=500, bias=True)\n",
       "  (fc6): Linear(in_features=500, out_features=10, bias=True)\n",
       ")"
      ]
     },
     "execution_count": 4,
     "metadata": {},
     "output_type": "execute_result"
    }
   ],
   "source": [
    "model = Net()\n",
    "model.load_state_dict(torch.load('nn.pt'))\n",
    "model.eval()"
   ]
  },
  {
   "cell_type": "code",
   "execution_count": 5,
   "metadata": {},
   "outputs": [],
   "source": [
    "def test(model):\n",
    "    losses, accuracies = [], []\n",
    "    for data in tqdm(testset):\n",
    "        X, y = data\n",
    "        out = model(X.view(-1, 784))\n",
    "        loss = F.nll_loss(out, y)\n",
    "        preds = [torch.argmax(i) for i in out]\n",
    "        acc = np.array([ (int(a) == int(b)) for a, b in zip(preds, y) ]).mean()\n",
    "        losses.append(loss)\n",
    "        accuracies.append(acc)\n",
    "    return losses, accuracies"
   ]
  },
  {
   "cell_type": "code",
   "execution_count": null,
   "metadata": {},
   "outputs": [],
   "source": [
    "test(model)"
   ]
  }
 ],
 "metadata": {
  "kernelspec": {
   "display_name": "Python 3",
   "language": "python",
   "name": "python3"
  },
  "language_info": {
   "codemirror_mode": {
    "name": "ipython",
    "version": 3
   },
   "file_extension": ".py",
   "mimetype": "text/x-python",
   "name": "python",
   "nbconvert_exporter": "python",
   "pygments_lexer": "ipython3",
   "version": "3.8.5"
  }
 },
 "nbformat": 4,
 "nbformat_minor": 4
}
